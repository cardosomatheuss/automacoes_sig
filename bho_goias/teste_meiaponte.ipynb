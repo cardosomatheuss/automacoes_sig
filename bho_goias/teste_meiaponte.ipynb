{
 "cells": [
  {
   "cell_type": "code",
   "execution_count": 1,
   "metadata": {},
   "outputs": [
    {
     "name": "stderr",
     "output_type": "stream",
     "text": [
      "C:\\Users\\matheus.cgomes\\AppData\\Local\\Temp\\ipykernel_14220\\3274911898.py:1: DeprecationWarning: \n",
      "Pyarrow will become a required dependency of pandas in the next major release of pandas (pandas 3.0),\n",
      "(to allow more performant data types, such as the Arrow string type, and better interoperability with other libraries)\n",
      "but was not found to be installed on your system.\n",
      "If this would cause problems for you,\n",
      "please provide us feedback at https://github.com/pandas-dev/pandas/issues/54466\n",
      "        \n",
      "  import pandas as pd\n"
     ]
    }
   ],
   "source": [
    "import pandas as pd \n",
    "import geopandas as gpd"
   ]
  },
  {
   "cell_type": "code",
   "execution_count": 2,
   "metadata": {},
   "outputs": [],
   "source": [
    "points_meiaponte = gpd.read_file('D:\\\\matheus.cgomes\\\\Documentos\\\\GitHub\\\\gis_automations\\\\data\\\\teste_meiaponte_05-06-2024\\\\pontos_jusante_goiania.gpkg')"
   ]
  },
  {
   "cell_type": "code",
   "execution_count": 10,
   "metadata": {},
   "outputs": [],
   "source": [
    "points_meiaponte_filtered = points_meiaponte[['fid_', 'id', 'cobacia', 'cocursodag', 'noorigem', 'nodestino', 'nucomptrec', 'nudistbact',\n",
    " 'nudistcdag', 'nuareacont', 'nuareamont', 'nogenerico', 'noligacao', 'noespecif', 'noriocomp', 'nooriginal', 'cocdadesag', 'nutrjus',\n",
    " 'nudistbacc', 'nuareabacc', 'nuordemcda', 'nucompcda', 'nunivotto', 'nunivotcda', 'nustrahler', 'dedominial', 'dsversao', 'codigo',\n",
    " 'nome', 'ugh', 'estacao_qe', 'cobacia_jus','geometry']]"
   ]
  },
  {
   "cell_type": "code",
   "execution_count": 11,
   "metadata": {},
   "outputs": [
    {
     "name": "stderr",
     "output_type": "stream",
     "text": [
      "d:\\matheus.cgomes\\Documentos\\GitHub\\gis_automations\\venv\\Lib\\site-packages\\geopandas\\geodataframe.py:1525: SettingWithCopyWarning: \n",
      "A value is trying to be set on a copy of a slice from a DataFrame.\n",
      "Try using .loc[row_indexer,col_indexer] = value instead\n",
      "\n",
      "See the caveats in the documentation: https://pandas.pydata.org/pandas-docs/stable/user_guide/indexing.html#returning-a-view-versus-a-copy\n",
      "  super().__setitem__(key, value)\n",
      "d:\\matheus.cgomes\\Documentos\\GitHub\\gis_automations\\venv\\Lib\\site-packages\\geopandas\\geodataframe.py:1525: SettingWithCopyWarning: \n",
      "A value is trying to be set on a copy of a slice from a DataFrame.\n",
      "Try using .loc[row_indexer,col_indexer] = value instead\n",
      "\n",
      "See the caveats in the documentation: https://pandas.pydata.org/pandas-docs/stable/user_guide/indexing.html#returning-a-view-versus-a-copy\n",
      "  super().__setitem__(key, value)\n",
      "d:\\matheus.cgomes\\Documentos\\GitHub\\gis_automations\\venv\\Lib\\site-packages\\geopandas\\geodataframe.py:1525: SettingWithCopyWarning: \n",
      "A value is trying to be set on a copy of a slice from a DataFrame.\n",
      "Try using .loc[row_indexer,col_indexer] = value instead\n",
      "\n",
      "See the caveats in the documentation: https://pandas.pydata.org/pandas-docs/stable/user_guide/indexing.html#returning-a-view-versus-a-copy\n",
      "  super().__setitem__(key, value)\n",
      "d:\\matheus.cgomes\\Documentos\\GitHub\\gis_automations\\venv\\Lib\\site-packages\\geopandas\\geodataframe.py:1525: SettingWithCopyWarning: \n",
      "A value is trying to be set on a copy of a slice from a DataFrame.\n",
      "Try using .loc[row_indexer,col_indexer] = value instead\n",
      "\n",
      "See the caveats in the documentation: https://pandas.pydata.org/pandas-docs/stable/user_guide/indexing.html#returning-a-view-versus-a-copy\n",
      "  super().__setitem__(key, value)\n",
      "d:\\matheus.cgomes\\Documentos\\GitHub\\gis_automations\\venv\\Lib\\site-packages\\geopandas\\geodataframe.py:1525: SettingWithCopyWarning: \n",
      "A value is trying to be set on a copy of a slice from a DataFrame.\n",
      "Try using .loc[row_indexer,col_indexer] = value instead\n",
      "\n",
      "See the caveats in the documentation: https://pandas.pydata.org/pandas-docs/stable/user_guide/indexing.html#returning-a-view-versus-a-copy\n",
      "  super().__setitem__(key, value)\n",
      "d:\\matheus.cgomes\\Documentos\\GitHub\\gis_automations\\venv\\Lib\\site-packages\\geopandas\\geodataframe.py:1525: SettingWithCopyWarning: \n",
      "A value is trying to be set on a copy of a slice from a DataFrame.\n",
      "Try using .loc[row_indexer,col_indexer] = value instead\n",
      "\n",
      "See the caveats in the documentation: https://pandas.pydata.org/pandas-docs/stable/user_guide/indexing.html#returning-a-view-versus-a-copy\n",
      "  super().__setitem__(key, value)\n",
      "d:\\matheus.cgomes\\Documentos\\GitHub\\gis_automations\\venv\\Lib\\site-packages\\geopandas\\geodataframe.py:1525: SettingWithCopyWarning: \n",
      "A value is trying to be set on a copy of a slice from a DataFrame.\n",
      "Try using .loc[row_indexer,col_indexer] = value instead\n",
      "\n",
      "See the caveats in the documentation: https://pandas.pydata.org/pandas-docs/stable/user_guide/indexing.html#returning-a-view-versus-a-copy\n",
      "  super().__setitem__(key, value)\n",
      "d:\\matheus.cgomes\\Documentos\\GitHub\\gis_automations\\venv\\Lib\\site-packages\\geopandas\\geodataframe.py:1525: SettingWithCopyWarning: \n",
      "A value is trying to be set on a copy of a slice from a DataFrame.\n",
      "Try using .loc[row_indexer,col_indexer] = value instead\n",
      "\n",
      "See the caveats in the documentation: https://pandas.pydata.org/pandas-docs/stable/user_guide/indexing.html#returning-a-view-versus-a-copy\n",
      "  super().__setitem__(key, value)\n",
      "d:\\matheus.cgomes\\Documentos\\GitHub\\gis_automations\\venv\\Lib\\site-packages\\geopandas\\geodataframe.py:1525: SettingWithCopyWarning: \n",
      "A value is trying to be set on a copy of a slice from a DataFrame.\n",
      "Try using .loc[row_indexer,col_indexer] = value instead\n",
      "\n",
      "See the caveats in the documentation: https://pandas.pydata.org/pandas-docs/stable/user_guide/indexing.html#returning-a-view-versus-a-copy\n",
      "  super().__setitem__(key, value)\n",
      "d:\\matheus.cgomes\\Documentos\\GitHub\\gis_automations\\venv\\Lib\\site-packages\\geopandas\\geodataframe.py:1525: SettingWithCopyWarning: \n",
      "A value is trying to be set on a copy of a slice from a DataFrame.\n",
      "Try using .loc[row_indexer,col_indexer] = value instead\n",
      "\n",
      "See the caveats in the documentation: https://pandas.pydata.org/pandas-docs/stable/user_guide/indexing.html#returning-a-view-versus-a-copy\n",
      "  super().__setitem__(key, value)\n",
      "d:\\matheus.cgomes\\Documentos\\GitHub\\gis_automations\\venv\\Lib\\site-packages\\geopandas\\geodataframe.py:1525: SettingWithCopyWarning: \n",
      "A value is trying to be set on a copy of a slice from a DataFrame.\n",
      "Try using .loc[row_indexer,col_indexer] = value instead\n",
      "\n",
      "See the caveats in the documentation: https://pandas.pydata.org/pandas-docs/stable/user_guide/indexing.html#returning-a-view-versus-a-copy\n",
      "  super().__setitem__(key, value)\n",
      "d:\\matheus.cgomes\\Documentos\\GitHub\\gis_automations\\venv\\Lib\\site-packages\\geopandas\\geodataframe.py:1525: SettingWithCopyWarning: \n",
      "A value is trying to be set on a copy of a slice from a DataFrame.\n",
      "Try using .loc[row_indexer,col_indexer] = value instead\n",
      "\n",
      "See the caveats in the documentation: https://pandas.pydata.org/pandas-docs/stable/user_guide/indexing.html#returning-a-view-versus-a-copy\n",
      "  super().__setitem__(key, value)\n"
     ]
    }
   ],
   "source": [
    "filtro_inhumas = points_meiaponte_filtered['codigo'] == '60635000'\n",
    "filtro_joaoleite = points_meiaponte_filtered['codigo'] == '60642000'\n",
    "filtro_jusantegyn = points_meiaponte_filtered['codigo'] =='60650000'\n",
    "\n",
    "\n",
    "points_meiaponte_filtered.loc[filtro_inhumas,'q95esp_inc_jan_l/s/km2'] = 4.77\n",
    "points_meiaponte_filtered.loc[filtro_inhumas,'q95esp_inc_fev_l/s/km2'] = 6.64\n",
    "points_meiaponte_filtered.loc[filtro_inhumas,'q95esp_inc_mar_l/s/km2'] = 6.80\n",
    "points_meiaponte_filtered.loc[filtro_inhumas,'q95esp_inc_abr_l/s/km2'] = 5.56\n",
    "points_meiaponte_filtered.loc[filtro_inhumas,'q95esp_inc_mai_l/s/km2'] = 4.36\n",
    "points_meiaponte_filtered.loc[filtro_inhumas,'q95esp_inc_jun_l/s/km2'] = 3.27\n",
    "points_meiaponte_filtered.loc[filtro_inhumas,'q95esp_inc_jul_l/s/km2'] = 2.50\n",
    "points_meiaponte_filtered.loc[filtro_inhumas,'q95esp_inc_ago_l/s/km2'] = 1.92\n",
    "points_meiaponte_filtered.loc[filtro_inhumas,'q95esp_inc_set_l/s/km2'] = 1.49\n",
    "points_meiaponte_filtered.loc[filtro_inhumas,'q95esp_inc_out_l/s/km2'] = 1.97\n",
    "points_meiaponte_filtered.loc[filtro_inhumas,'q95esp_inc_nov_l/s/km2'] = 3.59\n",
    "points_meiaponte_filtered.loc[filtro_inhumas,'q95esp_inc_dez_l/s/km2'] = 4.44\n",
    "\n",
    "\n",
    "points_meiaponte_filtered.loc[filtro_joaoleite,'q95esp_inc_jan_l/s/km2'] = 6.95\n",
    "points_meiaponte_filtered.loc[filtro_joaoleite,'q95esp_inc_fev_l/s/km2'] = 7.50\n",
    "points_meiaponte_filtered.loc[filtro_joaoleite,'q95esp_inc_mar_l/s/km2'] = 10.17\n",
    "points_meiaponte_filtered.loc[filtro_joaoleite,'q95esp_inc_abr_l/s/km2'] = 7.84\n",
    "points_meiaponte_filtered.loc[filtro_joaoleite,'q95esp_inc_mai_l/s/km2'] = 5.61\n",
    "points_meiaponte_filtered.loc[filtro_joaoleite,'q95esp_inc_jun_l/s/km2'] = 3.92\n",
    "points_meiaponte_filtered.loc[filtro_joaoleite,'q95esp_inc_jul_l/s/km2'] = 3.12\n",
    "points_meiaponte_filtered.loc[filtro_joaoleite,'q95esp_inc_ago_l/s/km2'] = 2.47\n",
    "points_meiaponte_filtered.loc[filtro_joaoleite,'q95esp_inc_set_l/s/km2'] = 2.35\n",
    "points_meiaponte_filtered.loc[filtro_joaoleite,'q95esp_inc_out_l/s/km2'] = 2.97\n",
    "points_meiaponte_filtered.loc[filtro_joaoleite,'q95esp_inc_nov_l/s/km2'] = 4.97\n",
    "points_meiaponte_filtered.loc[filtro_joaoleite,'q95esp_inc_dez_l/s/km2'] = 5.99\n",
    "\n",
    "\n",
    "points_meiaponte_filtered.loc[filtro_jusantegyn,'q95esp_inc_jan_l/s/km2'] = 6.48\n",
    "points_meiaponte_filtered.loc[filtro_jusantegyn,'q95esp_inc_fev_l/s/km2'] = 9.34\n",
    "points_meiaponte_filtered.loc[filtro_jusantegyn,'q95esp_inc_mar_l/s/km2'] = 12.19\n",
    "points_meiaponte_filtered.loc[filtro_jusantegyn,'q95esp_inc_abr_l/s/km2'] = 8.11\n",
    "points_meiaponte_filtered.loc[filtro_jusantegyn,'q95esp_inc_mai_l/s/km2'] = 5.99\n",
    "points_meiaponte_filtered.loc[filtro_jusantegyn,'q95esp_inc_jun_l/s/km2'] = 4.34\n",
    "points_meiaponte_filtered.loc[filtro_jusantegyn,'q95esp_inc_jul_l/s/km2'] = 2.74\n",
    "points_meiaponte_filtered.loc[filtro_jusantegyn,'q95esp_inc_ago_l/s/km2'] = 2.22\n",
    "points_meiaponte_filtered.loc[filtro_jusantegyn,'q95esp_inc_set_l/s/km2'] = 1.43\n",
    "points_meiaponte_filtered.loc[filtro_jusantegyn,'q95esp_inc_out_l/s/km2'] = 1.83\n",
    "points_meiaponte_filtered.loc[filtro_jusantegyn,'q95esp_inc_nov_l/s/km2'] = 4.95\n",
    "points_meiaponte_filtered.loc[filtro_jusantegyn,'q95esp_inc_dez_l/s/km2'] = 6.10\n"
   ]
  },
  {
   "cell_type": "code",
   "execution_count": 12,
   "metadata": {},
   "outputs": [],
   "source": [
    "points_meiaponte_filtered.to_file('D:\\\\matheus.cgomes\\\\Documentos\\\\GitHub\\\\gis_automations\\\\data\\\\teste_meiaponte_05-06-2024\\\\pontos_jusante_goiania_qespincrement.gpkg')"
   ]
  }
 ],
 "metadata": {
  "kernelspec": {
   "display_name": "venv",
   "language": "python",
   "name": "python3"
  },
  "language_info": {
   "codemirror_mode": {
    "name": "ipython",
    "version": 3
   },
   "file_extension": ".py",
   "mimetype": "text/x-python",
   "name": "python",
   "nbconvert_exporter": "python",
   "pygments_lexer": "ipython3",
   "version": "3.11.9"
  }
 },
 "nbformat": 4,
 "nbformat_minor": 2
}
