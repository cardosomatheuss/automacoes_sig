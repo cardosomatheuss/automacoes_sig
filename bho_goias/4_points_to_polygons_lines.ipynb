{
 "cells": [
  {
   "cell_type": "code",
   "execution_count": 2,
   "metadata": {},
   "outputs": [],
   "source": [
    "import pandas as pd\n",
    "import geopandas as gpd"
   ]
  },
  {
   "cell_type": "code",
   "execution_count": 3,
   "metadata": {},
   "outputs": [],
   "source": [
    "centros_superficie = gpd.read_file('bho_q95_qmed_23-05-2024_altosaomarcos_ok.gpkg')\n",
    "linha_bho = gpd.read_file('dren_linha_bho_goias.gpkg')\n",
    "poligonos_bho = gpd.read_file('poligonos_bho_goias.gpkg')"
   ]
  },
  {
   "cell_type": "code",
   "execution_count": 15,
   "metadata": {},
   "outputs": [
    {
     "name": "stderr",
     "output_type": "stream",
     "text": [
      "C:\\Users\\matheus.cgomes\\AppData\\Local\\Temp\\ipykernel_14400\\1454413936.py:14: SettingWithCopyWarning: \n",
      "A value is trying to be set on a copy of a slice from a DataFrame\n",
      "\n",
      "See the caveats in the documentation: https://pandas.pydata.org/pandas-docs/stable/user_guide/indexing.html#returning-a-view-versus-a-copy\n",
      "  centros_superficie_filtered.rename(columns={'qmed_esp_jan_(l/s/km²)':'qmed_esp_jan', 'qmed_esp_fev_(l/s/km²)':'qmed_esp_fev',\n"
     ]
    }
   ],
   "source": [
    "centros_superficie_filtered = centros_superficie[['cobacia', 'cocursodag', 'noorigem', 'nodestino', 'nucomptrec',\n",
    " 'nudistbact', 'nudistcdag', 'nuareacont', 'nuareamont', 'nogenerico', 'noligacao', 'noespecif', 'noriocomp',\n",
    " 'nooriginal', 'cocdadesag', 'nutrjus', 'nudistbacc', 'nuareabacc', 'nuordemcda', 'nucompcda', 'nunivotto',\n",
    " 'nunivotcda', 'nustrahler', 'dedominial', 'cobacia_jus','qmed_esp_jan_(l/s/km²)', 'qmed_esp_fev_(l/s/km²)',\n",
    " 'qmed_esp_mar_(l/s/km²)', 'qmed_esp_abr_(l/s/km²)', 'qmed_esp_mai_(l/s/km²)', 'qmed_esp_jun_(l/s/km²)',\n",
    " 'qmed_esp_jul_(l/s/km²)', 'qmed_esp_ago_(l/s/km²)', 'qmed_esp_set_(l/s/km²)', 'qmed_esp_out_(l/s/km²)',\n",
    " 'qmed_esp_nov_(l/s/km²)', 'qmed_esp_dez_(l/s/km²)','q95esp_jan', 'q95esp_fev', 'q95esp_mar', 'q95esp_abr',\n",
    " 'q95esp_mai', 'q95esp_jun', 'q95esp_jul', 'q95esp_ago', 'q95esp_set', 'q95esp_out', 'q95esp_nov', 'q95esp_dez',\n",
    " 'new_qmed_jan_ls', 'new_qmed_fev_ls', 'new_qmed_mar_ls', 'new_qmed_abr_ls', 'new_qmed_mai_ls', 'new_qmed_jun_ls',\n",
    " 'new_qmed_jul_ls', 'new_qmed_ago_ls', 'new_qmed_set_ls', 'new_qmed_out_ls', 'new_qmed_nov_ls', 'new_qmed_dez_ls',\n",
    " 'new_q95_jan_ls', 'new_q95_fev_ls', 'new_q95_mar_ls', 'new_q95_abr_ls', 'new_q95_mai_ls', 'new_q95_jun_ls',\n",
    " 'new_q95_jul_ls', 'new_q95_ago_ls', 'new_q95_set_ls', 'new_q95_out_ls', 'new_q95_nov_ls', 'new_q95_dez_ls']]\n",
    "\n",
    "centros_superficie_filtered.rename(columns={'qmed_esp_jan_(l/s/km²)':'qmed_esp_jan', 'qmed_esp_fev_(l/s/km²)':'qmed_esp_fev',\n",
    " 'qmed_esp_mar_(l/s/km²)':'qmed_esp_mar', 'qmed_esp_abr_(l/s/km²)':'qmed_esp_abr', 'qmed_esp_mai_(l/s/km²)':'qmed_esp_mai', 'qmed_esp_jun_(l/s/km²)':'qmed_esp_jun',\n",
    " 'qmed_esp_jul_(l/s/km²)':'qmed_esp_jul', 'qmed_esp_ago_(l/s/km²)':'qmed_esp_ago', 'qmed_esp_set_(l/s/km²)':'qmed_esp_set', 'qmed_esp_out_(l/s/km²)':'qmed_esp_out',\n",
    " 'qmed_esp_nov_(l/s/km²)':'qmed_esp_nov', 'qmed_esp_dez_(l/s/km²)':'qmed_esp_dez','q95esp_jan':'q95_esp_jan', 'q95esp_fev':'q95_esp_fev', 'q95esp_mar':'q95_esp_mar', 'q95esp_abr':'q95_esp_abr',\n",
    " 'q95esp_mai':'q95_esp_mai', 'q95esp_jun':'q95_esp_jun', 'q95esp_jul':'q95_esp_jul', 'q95esp_ago':'q95_esp_ago', 'q95esp_set':'q95_esp_set', 'q95esp_out':'q95_esp_out', 'q95esp_nov':'q95_esp_nov', 'q95esp_dez':'q95_esp_dez',\n",
    " 'new_qmed_jan_ls':'qmed_jan_ls', 'new_qmed_fev_ls':'qmed_fev_ls', 'new_qmed_mar_ls':'qmed_mar_ls', 'new_qmed_abr_ls':'qmed_abr_ls', 'new_qmed_mai_ls':'qmed_mai_ls', 'new_qmed_jun_ls':'qmed_jun_ls',\n",
    " 'new_qmed_jul_ls':'qmed_jul_ls', 'new_qmed_ago_ls':'qmed_ago_ls', 'new_qmed_set_ls':'qmed_set_ls', 'new_qmed_out_ls':'qmed_out_ls', 'new_qmed_nov_ls':'qmed_nov_ls', 'new_qmed_dez_ls':'qmed_dez_ls',\n",
    " 'new_q95_jan_ls':'q95_jan_ls', 'new_q95_fev_ls':'q95_fev_ls', 'new_q95_mar_ls':'q95_mar_ls', 'new_q95_abr_ls':'q95_abr_ls', 'new_q95_mai_ls':'q95_mai_ls', 'new_q95_jun_ls':'q95_jun_ls',\n",
    " 'new_q95_jul_ls':'q95_jul_ls', 'new_q95_ago_ls':'q95_ago_ls', 'new_q95_set_ls':'q95_set_ls', 'new_q95_out_ls':'q95_out_ls', 'new_q95_nov_ls':'q95_nov_ls', 'new_q95_dez_ls':'q95_dez_ls'},inplace=True)\n",
    "\n",
    "linha_bho_filtered = linha_bho[['cocursodag',\n",
    " 'cobacia','cotrecho','geometry']]\n",
    "\n",
    "poligonos_bho_filtered = poligonos_bho[['cobacia','cocursodag','cotrecho','geometry']]\n",
    "\n"
   ]
  },
  {
   "cell_type": "code",
   "execution_count": 16,
   "metadata": {},
   "outputs": [],
   "source": [
    "line_merge = pd.merge(centros_superficie_filtered,linha_bho_filtered,on=['cobacia','cocursodag'],how='inner')\n",
    "polygons_merge = pd.merge(centros_superficie_filtered,poligonos_bho_filtered,on=['cobacia','cocursodag'],how='inner')\n",
    "gdf_line = gpd.GeoDataFrame(line_merge,geometry='geometry')\n",
    "gdf_polygon = gpd.GeoDataFrame(polygons_merge,geometry='geometry')\n",
    "\n",
    "gdf_line.to_file('bho_goias_semad_linha_23-05-2024.gpkg')\n",
    "gdf_polygon.to_file('bho_goias_semad_polygons_23-05-2024.gpkg')"
   ]
  },
  {
   "cell_type": "code",
   "execution_count": null,
   "metadata": {},
   "outputs": [],
   "source": []
  }
 ],
 "metadata": {
  "kernelspec": {
   "display_name": "Python 3",
   "language": "python",
   "name": "python3"
  },
  "language_info": {
   "codemirror_mode": {
    "name": "ipython",
    "version": 3
   },
   "file_extension": ".py",
   "mimetype": "text/x-python",
   "name": "python",
   "nbconvert_exporter": "python",
   "pygments_lexer": "ipython3",
   "version": "3.11.9"
  }
 },
 "nbformat": 4,
 "nbformat_minor": 2
}
