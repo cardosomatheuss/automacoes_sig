{
 "cells": [
  {
   "cell_type": "code",
   "execution_count": 1,
   "metadata": {},
   "outputs": [
    {
     "name": "stderr",
     "output_type": "stream",
     "text": [
      "C:\\Users\\matheus.cgomes\\AppData\\Local\\Temp\\ipykernel_6752\\1259499560.py:1: DeprecationWarning: \n",
      "Pyarrow will become a required dependency of pandas in the next major release of pandas (pandas 3.0),\n",
      "(to allow more performant data types, such as the Arrow string type, and better interoperability with other libraries)\n",
      "but was not found to be installed on your system.\n",
      "If this would cause problems for you,\n",
      "please provide us feedback at https://github.com/pandas-dev/pandas/issues/54466\n",
      "        \n",
      "  import pandas as pd\n"
     ]
    }
   ],
   "source": [
    "import pandas as pd\n",
    "import geopandas as gpd"
   ]
  },
  {
   "cell_type": "code",
   "execution_count": 2,
   "metadata": {},
   "outputs": [],
   "source": [
    "bho_points = gpd.read_file('D:\\\\matheus.cgomes\\\\Documentos\\\\GitHub\\\\gis_automations\\\\data\\\\bho_q95_qmed_correc_03-06-2024_final_v3_FINAL.gpkg')\n",
    "bho_polygons = gpd.read_file('D:\\\\matheus.cgomes\\\\Documentos\\\\GitHub\\\\gis_automations\\\\data\\\\bho_2022_goias_ana_versaoteste.gpkg')"
   ]
  },
  {
   "cell_type": "code",
   "execution_count": 3,
   "metadata": {},
   "outputs": [],
   "source": [
    "bho_polygons_filtered = bho_polygons[['cobacia','cocursodag','geometry']]\n",
    "\n",
    "bho_points_filtered = bho_points[['cobacia','cocursodag','cobacia_jus','nuareamont','nuareacont','new_q95_jan_ls',\n",
    " 'new_q95_fev_ls', 'new_q95_mar_ls', 'new_q95_abr_ls', 'new_q95_mai_ls',\n",
    " 'new_q95_jun_ls', 'new_q95_jul_ls', 'new_q95_ago_ls', 'new_q95_set_ls',\n",
    " 'new_q95_out_ls', 'new_q95_nov_ls', 'new_q95_dez_ls','new_qmed_jan_ls',\n",
    " 'new_qmed_fev_ls', 'new_qmed_mar_ls', 'new_qmed_abr_ls', 'new_qmed_mai_ls',\n",
    " 'new_qmed_jun_ls', 'new_qmed_jul_ls', 'new_qmed_ago_ls', 'new_qmed_set_ls',\n",
    " 'new_qmed_out_ls', 'new_qmed_nov_ls', 'new_qmed_dez_ls']]"
   ]
  },
  {
   "cell_type": "code",
   "execution_count": 4,
   "metadata": {},
   "outputs": [],
   "source": [
    "#bho_points_filtered.to_parquet('D:\\\\matheus.cgomes\\\\Documentos\\\\GitHub\\\\gis_automations\\\\data\\\\bho_q95_qmed_correc_29-05-2024_final_parquet_grafico.parquet')"
   ]
  },
  {
   "cell_type": "code",
   "execution_count": 5,
   "metadata": {},
   "outputs": [],
   "source": [
    "#bho_points_filtered.to_csv('bho_q95_qmed_correc_29-05-2024_final_csv.csv',sep=',',decimal=',')"
   ]
  },
  {
   "cell_type": "code",
   "execution_count": 6,
   "metadata": {},
   "outputs": [],
   "source": [
    "merge = pd.merge(bho_polygons_filtered,bho_points_filtered,on=['cobacia','cocursodag'])\n",
    "\n",
    "merge_gdf = gpd.GeoDataFrame(merge,geometry='geometry')\n",
    "\n",
    "merge_gdf.to_file('D:\\\\matheus.cgomes\\\\Documentos\\\\GitHub\\\\gis_automations\\\\data\\\\bho_q95_qmed_correc_03-06-2024_final_poligonos.gpkg')"
   ]
  },
  {
   "cell_type": "code",
   "execution_count": 7,
   "metadata": {},
   "outputs": [
    {
     "data": {
      "text/plain": [
       "Index(['cobacia', 'cocursodag', 'geometry', 'cobacia_jus', 'nuareamont',\n",
       "       'nuareacont', 'new_q95_jan_ls', 'new_q95_fev_ls', 'new_q95_mar_ls',\n",
       "       'new_q95_abr_ls', 'new_q95_mai_ls', 'new_q95_jun_ls', 'new_q95_jul_ls',\n",
       "       'new_q95_ago_ls', 'new_q95_set_ls', 'new_q95_out_ls', 'new_q95_nov_ls',\n",
       "       'new_q95_dez_ls', 'new_qmed_jan_ls', 'new_qmed_fev_ls',\n",
       "       'new_qmed_mar_ls', 'new_qmed_abr_ls', 'new_qmed_mai_ls',\n",
       "       'new_qmed_jun_ls', 'new_qmed_jul_ls', 'new_qmed_ago_ls',\n",
       "       'new_qmed_set_ls', 'new_qmed_out_ls', 'new_qmed_nov_ls',\n",
       "       'new_qmed_dez_ls'],\n",
       "      dtype='object')"
      ]
     },
     "execution_count": 7,
     "metadata": {},
     "output_type": "execute_result"
    }
   ],
   "source": [
    "merge.columns"
   ]
  },
  {
   "cell_type": "code",
   "execution_count": null,
   "metadata": {},
   "outputs": [],
   "source": []
  }
 ],
 "metadata": {
  "kernelspec": {
   "display_name": "venv",
   "language": "python",
   "name": "python3"
  },
  "language_info": {
   "codemirror_mode": {
    "name": "ipython",
    "version": 3
   },
   "file_extension": ".py",
   "mimetype": "text/x-python",
   "name": "python",
   "nbconvert_exporter": "python",
   "pygments_lexer": "ipython3",
   "version": "3.11.9"
  }
 },
 "nbformat": 4,
 "nbformat_minor": 2
}
