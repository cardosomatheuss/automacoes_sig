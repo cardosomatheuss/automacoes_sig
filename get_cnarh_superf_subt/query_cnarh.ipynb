{
 "cells": [
  {
   "cell_type": "markdown",
   "metadata": {},
   "source": [
    "Script responsável por acessar a API do Cadastro Nacional de Usuários de Recursos Hídricos (CNARH) e obter os dados de usos outorgados no Estado de Goiás.\n",
    "\n",
    "Outorgas estaduais superficiais = https://dadosabertos.ana.gov.br/datasets/3b1ed9295d2c428a8f0ec6e6ffcfeddf_1/explore\n",
    "\n",
    "Outorgas estaduais subterrâneas = https://dadosabertos.ana.gov.br/datasets/096e3aae5bd24c759c3b08fcfa0e33c3_2/explore\n",
    "\n",
    "Por meio do API explorer disponibilizado, filtra-se os dados para o Estado de Goiás, gerando uma URL para consulta. Essa URL retorna um JSON que posteriormente\n",
    "é tratado e convertido em um formato vetorial (gpkg) para ser trabalhado em ambiente SIG. "
   ]
  },
  {
   "cell_type": "code",
   "execution_count": 38,
   "metadata": {},
   "outputs": [],
   "source": [
    "import requests \n",
    "import pandas as pd \n",
    "import geopandas as gpd \n",
    "from datetime import datetime\n",
    "\n",
    "def get_cnarh40(url_superf,url_subt):\n",
    "    superf_request = requests.get(url_superf)\n",
    "    subt_request = requests.get(url_subt)\n",
    "    now = datetime.now()\n",
    "\n",
    "    if superf_request.status_code != 200 or subt_request.status_code != 200:\n",
    "        return 'Erro na requisição. Verificar link da API'\n",
    "    else:\n",
    "        response_list_superf = superf_request.json() #lendo o resultado da requisição para superf\n",
    "        response_list_subt = subt_request.json() #lendo o resultado da requisição para subt\n",
    "        \n",
    "        #transformando o json de superficial em um dataframe\n",
    "        get_superf_features = response_list_superf['features']\n",
    "        get_superf_attributes = [feature['attributes'] for feature in get_superf_features]\n",
    "        cnarh_superf_df = pd.DataFrame(get_superf_attributes)\n",
    "\n",
    "        #transformando o json de subterrânea em um dataframe\n",
    "        get_subt_features = response_list_subt['features']\n",
    "        get_subt_attributes = [feature['attributes'] for feature in get_subt_features]\n",
    "        cnarh_subt_df = pd.DataFrame(get_subt_attributes)\n",
    "\n",
    "        #unindo superficial e subterrânea em um único dataframe\n",
    "        cnarh_superf_subt_union = pd.concat([cnarh_superf_df,cnarh_subt_df])\n",
    "\n",
    "        #criando uma coluna com a data da request\n",
    "        cnarh_superf_subt_union['api_query_date'] = now.strftime(\"%d/%m/%Y %H:%M:%S\")\n",
    "        #convertendo o dataframe em um geodataframe\n",
    "        gdf_cnarh = gpd.GeoDataFrame(cnarh_superf_subt_union,geometry=gpd.points_from_xy(cnarh_superf_subt_union['INT_NU_LONGITUDE'],cnarh_superf_subt_union['INT_NU_LATITUDE']))\n",
    "\n",
    "        #salvando o geodataframe em um formato vetorial (Geopackage)\n",
    "        return gdf_cnarh.to_file('cnarh40_superf_subt.gpkg')\n",
    "\n",
    "        \n",
    "    "
   ]
  },
  {
   "cell_type": "code",
   "execution_count": 39,
   "metadata": {},
   "outputs": [],
   "source": [
    "url_superf = \"https://www.snirh.gov.br/arcgis/rest/services/SFI/cnarh_dados_abertos_v31082022/FeatureServer/1/query?where=ORG_UF%20%3D%20'GO'&outFields=*&outSR=4326&f=json\"\n",
    "url_subt = \"https://www.snirh.gov.br/arcgis/rest/services/SFI/cnarh_dados_abertos_v31082022/FeatureServer/2/query?where=ORG_UF%20%3D%20'GO'&outFields=*&outSR=4326&f=json\"\n",
    "\n",
    "get_cnarh40(url_superf,url_subt)\n"
   ]
  }
 ],
 "metadata": {
  "kernelspec": {
   "display_name": "venv",
   "language": "python",
   "name": "python3"
  },
  "language_info": {
   "codemirror_mode": {
    "name": "ipython",
    "version": 3
   },
   "file_extension": ".py",
   "mimetype": "text/x-python",
   "name": "python",
   "nbconvert_exporter": "python",
   "pygments_lexer": "ipython3",
   "version": "3.11.6"
  }
 },
 "nbformat": 4,
 "nbformat_minor": 2
}
