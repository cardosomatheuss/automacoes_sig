{
 "cells": [
  {
   "cell_type": "code",
   "execution_count": 8,
   "metadata": {},
   "outputs": [],
   "source": [
    "import pandas as pd \n",
    "import geopandas as gpd"
   ]
  },
  {
   "cell_type": "code",
   "execution_count": 2,
   "metadata": {},
   "outputs": [],
   "source": [
    "bho_final = gpd.read_file('D:\\\\matheus.cgomes\\\\Documentos\\\\GitHub\\\\gis_automations\\\\data\\\\26-06-2024\\\\bho_q95_qmed_q95anual_saomarcosok_26-06-2024_correc.gpkg')"
   ]
  },
  {
   "cell_type": "code",
   "execution_count": 12,
   "metadata": {},
   "outputs": [],
   "source": [
    "bho_final_filtered = bho_final[['id', 'cobacia', 'cocursodag', 'noorigem', 'nodestino', 'nucomptrec', 'nudistbact', 'nudistcdag',\n",
    " 'nuareacont', 'nuareamont', 'nogenerico', 'noligacao', 'noespecif', 'noriocomp', 'nooriginal', 'cocdadesag', 'nutrjus', 'nudistbacc',\n",
    " 'nuareabacc', 'nuordemcda', 'nucompcda', 'nunivotto', 'nunivotcda', 'nustrahler', 'dedominial','new_q95_jan_ls',\n",
    " 'new_q95_fev_ls', 'new_q95_mar_ls', 'new_q95_abr_ls', 'new_q95_mai_ls', 'new_q95_jun_ls', 'new_q95_jul_ls', 'new_q95_ago_ls', 'new_q95_set_ls',\n",
    " 'new_q95_out_ls', 'new_q95_nov_ls', 'new_q95_dez_ls','new_q95_anual_ls','new_qmed_jan_ls', 'new_qmed_fev_ls', 'new_qmed_mar_ls', 'new_qmed_abr_ls', 'new_qmed_mai_ls',\n",
    " 'new_qmed_jun_ls', 'new_qmed_jul_ls', 'new_qmed_ago_ls', 'new_qmed_set_ls', 'new_qmed_out_ls', 'new_qmed_nov_ls', 'new_qmed_dez_ls', 'geometry']]"
   ]
  },
  {
   "cell_type": "code",
   "execution_count": 13,
   "metadata": {},
   "outputs": [
    {
     "data": {
      "text/plain": [
       "Index(['id', 'cobacia', 'cocursodag', 'noorigem', 'nodestino', 'nucomptrec',\n",
       "       'nudistbact', 'nudistcdag', 'nuareacont', 'nuareamont', 'nogenerico',\n",
       "       'noligacao', 'noespecif', 'noriocomp', 'nooriginal', 'cocdadesag',\n",
       "       'nutrjus', 'nudistbacc', 'nuareabacc', 'nuordemcda', 'nucompcda',\n",
       "       'nunivotto', 'nunivotcda', 'nustrahler', 'dedominial', 'q95_jan',\n",
       "       'q95_fev', 'q95_mar', 'q95_abr', 'q95_mai', 'q95_jun', 'q95_jul',\n",
       "       'q95_ago', 'q95_set', 'q95_out', 'q95_nov', 'q95_dez', 'q95_anual',\n",
       "       'qmed_jan', 'qmed_fev', 'qmed_mar', 'qmed_abr', 'qmed_mai', 'qmed_jun',\n",
       "       'qmed_jul', 'qmed_ago', 'qmed_set', 'qmed_out', 'qmed_nov', 'qmed_dez',\n",
       "       'geometry'],\n",
       "      dtype='object')"
      ]
     },
     "execution_count": 13,
     "metadata": {},
     "output_type": "execute_result"
    }
   ],
   "source": [
    "bho_final_filtered_rename = bho_final_filtered.rename(columns={'new_q95_jan_ls':'q95_jan', 'new_q95_fev_ls':'q95_fev', 'new_q95_mar_ls':'q95_mar', 'new_q95_abr_ls':'q95_abr', 'new_q95_mai_ls':'q95_mai', 'new_q95_jun_ls':'q95_jun', 'new_q95_jul_ls':'q95_jul', 'new_q95_ago_ls':'q95_ago', 'new_q95_set_ls':'q95_set',\n",
    " 'new_q95_out_ls':'q95_out', 'new_q95_nov_ls':'q95_nov', 'new_q95_dez_ls':'q95_dez','new_qmed_jan_ls':'qmed_jan', 'new_qmed_fev_ls':'qmed_fev', 'new_qmed_mar_ls':'qmed_mar', 'new_qmed_abr_ls':'qmed_abr', 'new_qmed_mai_ls':'qmed_mai',\n",
    " 'new_qmed_jun_ls':'qmed_jun', 'new_qmed_jul_ls':'qmed_jul', 'new_qmed_ago_ls':'qmed_ago', 'new_qmed_set_ls':'qmed_set', 'new_qmed_out_ls':'qmed_out', 'new_qmed_nov_ls':'qmed_nov', 'new_qmed_dez_ls':'qmed_dez','new_q95_anual_ls':'q95_anual'})\n",
    "\n",
    "bho_final_filtered_rename.columns"
   ]
  },
  {
   "cell_type": "code",
   "execution_count": 14,
   "metadata": {},
   "outputs": [],
   "source": [
    "bho_final_filtered_rename['q95_esp_jan'] = bho_final_filtered_rename['q95_jan']/bho_final_filtered_rename['nuareamont']\n",
    "bho_final_filtered_rename['q95_esp_fev'] = bho_final_filtered_rename['q95_fev']/bho_final_filtered_rename['nuareamont']\n",
    "bho_final_filtered_rename['q95_esp_mar'] = bho_final_filtered_rename['q95_mar']/bho_final_filtered_rename['nuareamont']\n",
    "bho_final_filtered_rename['q95_esp_abr'] = bho_final_filtered_rename['q95_abr']/bho_final_filtered_rename['nuareamont']\n",
    "bho_final_filtered_rename['q95_esp_mai'] = bho_final_filtered_rename['q95_mai']/bho_final_filtered_rename['nuareamont']\n",
    "bho_final_filtered_rename['q95_esp_jun'] = bho_final_filtered_rename['q95_jun']/bho_final_filtered_rename['nuareamont']\n",
    "bho_final_filtered_rename['q95_esp_jul'] = bho_final_filtered_rename['q95_jul']/bho_final_filtered_rename['nuareamont']\n",
    "bho_final_filtered_rename['q95_esp_ago'] = bho_final_filtered_rename['q95_ago']/bho_final_filtered_rename['nuareamont']\n",
    "bho_final_filtered_rename['q95_esp_set'] = bho_final_filtered_rename['q95_set']/bho_final_filtered_rename['nuareamont']\n",
    "bho_final_filtered_rename['q95_esp_out'] = bho_final_filtered_rename['q95_out']/bho_final_filtered_rename['nuareamont']\n",
    "bho_final_filtered_rename['q95_esp_nov'] = bho_final_filtered_rename['q95_nov']/bho_final_filtered_rename['nuareamont']\n",
    "bho_final_filtered_rename['q95_esp_dez'] = bho_final_filtered_rename['q95_dez']/bho_final_filtered_rename['nuareamont']\n",
    "bho_final_filtered_rename['q95_esp_anual'] = bho_final_filtered_rename['q95_anual']/bho_final_filtered_rename['nuareamont']\n",
    "\n",
    "bho_final_filtered_rename['qmed_esp_jan'] = bho_final_filtered_rename['qmed_jan']/bho_final_filtered_rename['nuareamont']\n",
    "bho_final_filtered_rename['qmed_esp_fev'] = bho_final_filtered_rename['qmed_fev']/bho_final_filtered_rename['nuareamont']\n",
    "bho_final_filtered_rename['qmed_esp_mar'] = bho_final_filtered_rename['qmed_mar']/bho_final_filtered_rename['nuareamont']\n",
    "bho_final_filtered_rename['qmed_esp_abr'] = bho_final_filtered_rename['qmed_abr']/bho_final_filtered_rename['nuareamont']\n",
    "bho_final_filtered_rename['qmed_esp_mai'] = bho_final_filtered_rename['qmed_mai']/bho_final_filtered_rename['nuareamont']\n",
    "bho_final_filtered_rename['qmed_esp_jun'] = bho_final_filtered_rename['qmed_jun']/bho_final_filtered_rename['nuareamont']\n",
    "bho_final_filtered_rename['qmed_esp_jul'] = bho_final_filtered_rename['qmed_jul']/bho_final_filtered_rename['nuareamont']\n",
    "bho_final_filtered_rename['qmed_esp_ago'] = bho_final_filtered_rename['qmed_ago']/bho_final_filtered_rename['nuareamont']\n",
    "bho_final_filtered_rename['qmed_esp_set'] = bho_final_filtered_rename['qmed_set']/bho_final_filtered_rename['nuareamont']\n",
    "bho_final_filtered_rename['qmed_esp_out'] = bho_final_filtered_rename['qmed_out']/bho_final_filtered_rename['nuareamont']\n",
    "bho_final_filtered_rename['qmed_esp_nov'] = bho_final_filtered_rename['qmed_nov']/bho_final_filtered_rename['nuareamont']\n",
    "bho_final_filtered_rename['qmed_esp_dez'] = bho_final_filtered_rename['qmed_dez']/bho_final_filtered_rename['nuareamont']"
   ]
  },
  {
   "cell_type": "code",
   "execution_count": 15,
   "metadata": {},
   "outputs": [],
   "source": [
    "bho_final_filtered_rename.to_file('D:\\\\matheus.cgomes\\\\Documentos\\\\GitHub\\\\gis_automations\\\\data\\\\26-06-2024\\\\bho_q95_qmed_q95anual_saomarcosok_26-06-2024_correc_columns_names.gpkg')"
   ]
  }
 ],
 "metadata": {
  "kernelspec": {
   "display_name": "venv",
   "language": "python",
   "name": "python3"
  },
  "language_info": {
   "codemirror_mode": {
    "name": "ipython",
    "version": 3
   },
   "file_extension": ".py",
   "mimetype": "text/x-python",
   "name": "python",
   "nbconvert_exporter": "python",
   "pygments_lexer": "ipython3",
   "version": "3.11.9"
  }
 },
 "nbformat": 4,
 "nbformat_minor": 2
}
